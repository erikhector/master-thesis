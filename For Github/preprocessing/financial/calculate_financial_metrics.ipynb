{
 "cells": [
  {
   "cell_type": "code",
   "execution_count": 13,
   "metadata": {},
   "outputs": [],
   "source": [
    "# filepath = \"../../data/financial/GOOGL.csv\"\n",
    "# filepath = \"../../data/financial/MSFT.csv\"\n",
    "filepath = \"../../data/financial/AAPL.csv\"\n",
    "\n",
    "import pandas as pd"
   ]
  },
  {
   "cell_type": "code",
   "execution_count": 14,
   "metadata": {},
   "outputs": [],
   "source": [
    "df = pd.read_csv(filepath)"
   ]
  },
  {
   "cell_type": "code",
   "execution_count": 15,
   "metadata": {},
   "outputs": [],
   "source": [
    "df['Open SMA'] = df['Open'].rolling(5).mean()\n",
    "df['High SMA'] = df['High'].rolling(5).mean()\n",
    "df['Low SMA'] = df['Low'].rolling(5).mean()\n",
    "df['Close SMA'] = df['Close'].rolling(5).mean()\n",
    "df['Adj Close SMA'] = df['Adj Close'].rolling(5).mean()\n",
    "df['Volume SMA'] = df['Volume'].rolling(5).mean()\n",
    "df['VPT'] = ((df['Close'] - df['Close'].shift(1)) / df['Close'].shift(1) * df['Volume']).cumsum()"
   ]
  },
  {
   "cell_type": "code",
   "execution_count": 16,
   "metadata": {},
   "outputs": [],
   "source": [
    "df_new = pd.DataFrame({\n",
    "    \"date\": df['Date'],\n",
    "    \"t_5_Open\": df['Open'].shift(5),\n",
    "    \"t_4_Open\": df['Open'].shift(4),\n",
    "    \"t_3_Open\": df['Open'].shift(3),\n",
    "    \"t_2_Open\": df['Open'].shift(2),\n",
    "    \"t_1_Open\": df['Open'].shift(),\n",
    "    \"t_5_High\": df['High'].shift(5),\n",
    "    \"t_4_High\": df['High'].shift(4),\n",
    "    \"t_3_High\": df['High'].shift(3),\n",
    "    \"t_2_High\": df['High'].shift(2),\n",
    "    \"t_1_High\": df['High'].shift(),\n",
    "    \"t_5_Low\": df['Low'].shift(5),\n",
    "    \"t_4_Low\": df['Low'].shift(4),\n",
    "    \"t_3_Low\": df['Low'].shift(3),\n",
    "    \"t_2_Low\": df['Low'].shift(2),\n",
    "    \"t_1_Low\": df['Low'].shift(),\n",
    "    \"t_5_Close\": df['Close'].shift(5),\n",
    "    \"t_4_Close\": df['Close'].shift(4),\n",
    "    \"t_3_Close\": df['Close'].shift(3),\n",
    "    \"t_2_Close\": df['Close'].shift(2),\n",
    "    \"t_1_Close\": df['Close'].shift(),\n",
    "    \"t_5_Adj_Close\": df['Adj Close'].shift(5),\n",
    "    \"t_4_Adj_Close\": df['Adj Close'].shift(4),\n",
    "    \"t_3_Adj_Close\": df['Adj Close'].shift(3),\n",
    "    \"t_2_Adj_Close\": df['Adj Close'].shift(2),\n",
    "    \"t_1_Adj_Close\": df['Adj Close'].shift(),\n",
    "    \"t_5_Volume\": df['Volume'].shift(5),\n",
    "    \"t_4_Volume\": df['Volume'].shift(4),\n",
    "    \"t_3_Volume\": df['Volume'].shift(3),\n",
    "    \"t_2_Volume\": df['Volume'].shift(2),\n",
    "    \"t_1_Volume\": df['Volume'].shift(),\n",
    "    \"t_5_Open_SMA\": df['Open SMA'].shift(5),\n",
    "    \"t_4_Open_SMA\": df['Open SMA'].shift(4),\n",
    "    \"t_3_Open_SMA\": df['Open SMA'].shift(3),\n",
    "    \"t_2_Open_SMA\": df['Open SMA'].shift(2),\n",
    "    \"t_1_Open_SMA\": df['Open SMA'].shift(),\n",
    "    \"t_5_High_SMA\": df['High SMA'].shift(5),\n",
    "    \"t_4_High_SMA\": df['High SMA'].shift(4),\n",
    "    \"t_3_High_SMA\": df['High SMA'].shift(3),\n",
    "    \"t_2_High_SMA\": df['High SMA'].shift(2),\n",
    "    \"t_1_High_SMA\": df['High SMA'].shift(),\n",
    "    \"t_5_Low_SMA\": df['Low SMA'].shift(5),\n",
    "    \"t_4_Low_SMA\": df['Low SMA'].shift(4),\n",
    "    \"t_3_Low_SMA\": df['Low SMA'].shift(3),\n",
    "    \"t_2_Low_SMA\": df['Low SMA'].shift(2),\n",
    "    \"t_1_Low_SMA\": df['Low SMA'].shift(),\n",
    "    \"t_5_Adj_Close_SMA\": df['Adj Close SMA'].shift(5),\n",
    "    \"t_4_Adj_Close_SMA\": df['Adj Close SMA'].shift(4),\n",
    "    \"t_3_Adj_Close_SMA\": df['Adj Close SMA'].shift(3),\n",
    "    \"t_2_Adj_Close_SMA\": df['Adj Close SMA'].shift(2),\n",
    "    \"t_1_Adj_Close_SMA\": df['Adj Close SMA'].shift(),\n",
    "    \"t_5_Volume_SMA\": df['Volume SMA'].shift(5),\n",
    "    \"t_4_Volume_SMA\": df['Volume SMA'].shift(4),\n",
    "    \"t_3_Volume_SMA\": df['Volume SMA'].shift(3),\n",
    "    \"t_2_Volume_SMA\": df['Volume SMA'].shift(2),\n",
    "    \"t_1_Volume_SMA\": df['Volume SMA'].shift(),\n",
    "    \"t_5_VPT\": df['VPT'].shift(5),\n",
    "    \"t_4_VPT\": df['VPT'].shift(4),\n",
    "    \"t_3_VPT\": df['VPT'].shift(3),\n",
    "    \"t_2_VPT\": df['VPT'].shift(2),\n",
    "    \"t_1_VPT\": df['VPT'].shift(),\n",
    "    \"close\": df['Close']\n",
    "})"
   ]
  },
  {
   "cell_type": "code",
   "execution_count": 17,
   "metadata": {},
   "outputs": [],
   "source": [
    "df.head(20)\n",
    "\n",
    "df = df.dropna()\n"
   ]
  },
  {
   "cell_type": "code",
   "execution_count": 18,
   "metadata": {},
   "outputs": [],
   "source": [
    "# df.to_csv(\"microsoft_financial_window.csv\")\n",
    "# df.to_csv(\"alphabet_financial_window.csv\")\n",
    "df.to_csv(\"apple_financial_window.csv\")"
   ]
  }
 ],
 "metadata": {
  "kernelspec": {
   "display_name": "Python 3",
   "language": "python",
   "name": "python3"
  },
  "language_info": {
   "codemirror_mode": {
    "name": "ipython",
    "version": 3
   },
   "file_extension": ".py",
   "mimetype": "text/x-python",
   "name": "python",
   "nbconvert_exporter": "python",
   "pygments_lexer": "ipython3",
   "version": "3.8.6"
  },
  "orig_nbformat": 4
 },
 "nbformat": 4,
 "nbformat_minor": 2
}
