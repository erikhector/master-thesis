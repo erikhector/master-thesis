{
 "cells": [
  {
   "cell_type": "code",
   "execution_count": 1,
   "metadata": {},
   "outputs": [],
   "source": [
    "import pandas as pd\n",
    "import re"
   ]
  },
  {
   "cell_type": "code",
   "execution_count": 2,
   "metadata": {},
   "outputs": [],
   "source": [
    "filepath = \"../../data/twitter/apple_tweets.csv\"\n",
    "# filepath = \"../../data/twitter/microsoft_tweets.csv\"\n",
    "# filepath = \"../../data/twitter/alphabet_tweets.csv\""
   ]
  },
  {
   "cell_type": "code",
   "execution_count": 3,
   "metadata": {},
   "outputs": [],
   "source": [
    "df = pd.read_csv(filepath, usecols= ['created_at','text'])"
   ]
  },
  {
   "cell_type": "code",
   "execution_count": 4,
   "metadata": {},
   "outputs": [
    {
     "data": {
      "text/plain": [
       "0    Most winning trading chat!!! For a limited tim...\n",
       "1    $PTON on fire. To know the details join the di...\n",
       "2    Join the most profitable trading group \\n sTF2...\n",
       "3    And yes $aapl will do very well after they sla...\n",
       "4    Learn To Trade While You're Working From Home&...\n",
       "Name: text, dtype: object"
      ]
     },
     "execution_count": 4,
     "metadata": {},
     "output_type": "execute_result"
    }
   ],
   "source": [
    "def cleaning_URLsAndUsernames(data):\n",
    "    return re.sub('((www.[^s]+)|(s://.[^s]+)|([@^]+[\\w\\d]*)|([#^]+[\\w\\d]*)|(https?://[^s]+)|(http?://[^s]+))',' ', data)\n",
    "\n",
    "df['text'] = df['text'].apply(lambda x: cleaning_URLsAndUsernames(x))\n",
    "df['text'].head()"
   ]
  },
  {
   "cell_type": "code",
   "execution_count": 5,
   "metadata": {},
   "outputs": [],
   "source": [
    "df['created_at'] = df['created_at'].apply(lambda x: x[0:10])"
   ]
  },
  {
   "cell_type": "code",
   "execution_count": 6,
   "metadata": {},
   "outputs": [
    {
     "data": {
      "text/html": [
       "<div>\n",
       "<style scoped>\n",
       "    .dataframe tbody tr th:only-of-type {\n",
       "        vertical-align: middle;\n",
       "    }\n",
       "\n",
       "    .dataframe tbody tr th {\n",
       "        vertical-align: top;\n",
       "    }\n",
       "\n",
       "    .dataframe thead th {\n",
       "        text-align: right;\n",
       "    }\n",
       "</style>\n",
       "<table border=\"1\" class=\"dataframe\">\n",
       "  <thead>\n",
       "    <tr style=\"text-align: right;\">\n",
       "      <th></th>\n",
       "      <th>created_at</th>\n",
       "      <th>text</th>\n",
       "    </tr>\n",
       "  </thead>\n",
       "  <tbody>\n",
       "    <tr>\n",
       "      <th>1019141</th>\n",
       "      <td>2021-09-24</td>\n",
       "      <td>Regular analysis &amp;amp; alerts\\n\\nBast DISCORD ...</td>\n",
       "    </tr>\n",
       "    <tr>\n",
       "      <th>476329</th>\n",
       "      <td>2022-08-01</td>\n",
       "      <td>purchased $AMWL $BABA $ROKU $SWK and $UPWK t...</td>\n",
       "    </tr>\n",
       "    <tr>\n",
       "      <th>863072</th>\n",
       "      <td>2021-12-28</td>\n",
       "      <td>$AAPL 4H helped pull this rally … will be inte...</td>\n",
       "    </tr>\n",
       "    <tr>\n",
       "      <th>501724</th>\n",
       "      <td>2022-07-20</td>\n",
       "      <td>$AAPL and $AMD for me as well</td>\n",
       "    </tr>\n",
       "    <tr>\n",
       "      <th>476455</th>\n",
       "      <td>2022-08-01</td>\n",
       "      <td>$PENN Trade idea💡\\n sk/reward here. \\n\\n$DKNG ...</td>\n",
       "    </tr>\n",
       "    <tr>\n",
       "      <th>103861</th>\n",
       "      <td>2022-11-30</td>\n",
       "      <td>Most Mentioned Tickers\\n\\n| 15 Minutes\\n$META\\...</td>\n",
       "    </tr>\n",
       "    <tr>\n",
       "      <th>589227</th>\n",
       "      <td>2022-06-01</td>\n",
       "      <td>Massive vol trading in $AAPL 155C FOR .30$ exp...</td>\n",
       "    </tr>\n",
       "    <tr>\n",
       "      <th>1921461</th>\n",
       "      <td>2019-06-11</td>\n",
       "      <td>ACTIVE TRADERS Try one of these FREE trading g...</td>\n",
       "    </tr>\n",
       "    <tr>\n",
       "      <th>1392629</th>\n",
       "      <td>2020-12-16</td>\n",
       "      <td>$AAPL Added More Green  ’$! Go Longs!</td>\n",
       "    </tr>\n",
       "    <tr>\n",
       "      <th>909304</th>\n",
       "      <td>2021-12-07</td>\n",
       "      <td>i like $GOOGL here as well. $AAPL $FB $AMZN ...</td>\n",
       "    </tr>\n",
       "    <tr>\n",
       "      <th>1545910</th>\n",
       "      <td>2020-08-28</td>\n",
       "      <td>please $TSLA $AAPL</td>\n",
       "    </tr>\n",
       "    <tr>\n",
       "      <th>915454</th>\n",
       "      <td>2021-12-02</td>\n",
       "      <td>It's $AAPL doing the gamma squeeze in the la...</td>\n",
       "    </tr>\n",
       "    <tr>\n",
       "      <th>1175248</th>\n",
       "      <td>2021-06-01</td>\n",
       "      <td>Coinbase Cardholders Can Now Make Crypto Purch...</td>\n",
       "    </tr>\n",
       "    <tr>\n",
       "      <th>1379501</th>\n",
       "      <td>2020-12-26</td>\n",
       "      <td>C) $1200 of $AAPL? 🔥</td>\n",
       "    </tr>\n",
       "    <tr>\n",
       "      <th>1315892</th>\n",
       "      <td>2021-02-08</td>\n",
       "      <td>so this $AAPL news came out sometime last we...</td>\n",
       "    </tr>\n",
       "    <tr>\n",
       "      <th>653004</th>\n",
       "      <td>2022-05-03</td>\n",
       "      <td>$AAPL   📱\\nBouncing off weekly trendline / EMA...</td>\n",
       "    </tr>\n",
       "    <tr>\n",
       "      <th>745581</th>\n",
       "      <td>2022-03-10</td>\n",
       "      <td>Top Sweep Activity from Smart Money courtesy o...</td>\n",
       "    </tr>\n",
       "    <tr>\n",
       "      <th>27833</th>\n",
       "      <td>2022-12-23</td>\n",
       "      <td>Caught the $TSLA wave up this morning\\nVisit t...</td>\n",
       "    </tr>\n",
       "    <tr>\n",
       "      <th>378873</th>\n",
       "      <td>2022-09-09</td>\n",
       "      <td>🔶 The day was mixed of gain and loss\\n\\n✅ But ...</td>\n",
       "    </tr>\n",
       "    <tr>\n",
       "      <th>1335912</th>\n",
       "      <td>2021-01-28</td>\n",
       "      <td>$TSLA $AAPL Options scam, The next reddit revo...</td>\n",
       "    </tr>\n",
       "  </tbody>\n",
       "</table>\n",
       "</div>"
      ],
      "text/plain": [
       "         created_at                                               text\n",
       "1019141  2021-09-24  Regular analysis &amp; alerts\\n\\nBast DISCORD ...\n",
       "476329   2022-08-01    purchased $AMWL $BABA $ROKU $SWK and $UPWK t...\n",
       "863072   2021-12-28  $AAPL 4H helped pull this rally … will be inte...\n",
       "501724   2022-07-20                      $AAPL and $AMD for me as well\n",
       "476455   2022-08-01  $PENN Trade idea💡\\n sk/reward here. \\n\\n$DKNG ...\n",
       "103861   2022-11-30  Most Mentioned Tickers\\n\\n| 15 Minutes\\n$META\\...\n",
       "589227   2022-06-01  Massive vol trading in $AAPL 155C FOR .30$ exp...\n",
       "1921461  2019-06-11  ACTIVE TRADERS Try one of these FREE trading g...\n",
       "1392629  2020-12-16              $AAPL Added More Green  ’$! Go Longs!\n",
       "909304   2021-12-07    i like $GOOGL here as well. $AAPL $FB $AMZN ...\n",
       "1545910  2020-08-28                               please $TSLA $AAPL  \n",
       "915454   2021-12-02    It's $AAPL doing the gamma squeeze in the la...\n",
       "1175248  2021-06-01  Coinbase Cardholders Can Now Make Crypto Purch...\n",
       "1379501  2020-12-26                               C) $1200 of $AAPL? 🔥\n",
       "1315892  2021-02-08    so this $AAPL news came out sometime last we...\n",
       "653004   2022-05-03  $AAPL   📱\\nBouncing off weekly trendline / EMA...\n",
       "745581   2022-03-10  Top Sweep Activity from Smart Money courtesy o...\n",
       "27833    2022-12-23  Caught the $TSLA wave up this morning\\nVisit t...\n",
       "378873   2022-09-09  🔶 The day was mixed of gain and loss\\n\\n✅ But ...\n",
       "1335912  2021-01-28  $TSLA $AAPL Options scam, The next reddit revo..."
      ]
     },
     "execution_count": 6,
     "metadata": {},
     "output_type": "execute_result"
    }
   ],
   "source": [
    "df.sample(20)"
   ]
  },
  {
   "cell_type": "code",
   "execution_count": 7,
   "metadata": {},
   "outputs": [],
   "source": [
    "filepath_cleaned = \"../../data/twitter/apple_tweets_cleaned.csv\"\n",
    "# filepath_cleaned = \"../../data/twitter/microsoft_tweets_cleaned.csv\"\n",
    "# filepath_cleaned = \"../../data/twitter/alphabet_tweets_cleaned.csv\""
   ]
  },
  {
   "cell_type": "code",
   "execution_count": 8,
   "metadata": {},
   "outputs": [],
   "source": [
    "df.to_csv(filepath_cleaned)"
   ]
  }
 ],
 "metadata": {
  "kernelspec": {
   "display_name": "Python 3",
   "language": "python",
   "name": "python3"
  },
  "language_info": {
   "codemirror_mode": {
    "name": "ipython",
    "version": 3
   },
   "file_extension": ".py",
   "mimetype": "text/x-python",
   "name": "python",
   "nbconvert_exporter": "python",
   "pygments_lexer": "ipython3",
   "version": "3.8.6"
  },
  "orig_nbformat": 4
 },
 "nbformat": 4,
 "nbformat_minor": 2
}
